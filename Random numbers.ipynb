{
 "cells": [
  {
   "cell_type": "markdown",
   "metadata": {},
   "source": [
    "# Random numbers generators (RNG)\n",
    "\n",
    "\n",
    "We distinguish between 3 types of RNG are: True Random Number Generators, Pseudo Random number Generators and Criptographycally Secure Random Pseudo Number Generators.\n",
    "\n",
    "## True Random Number Generators (TRNG)\n",
    "\n",
    "True random numer stem from physical processes, ti other words is impossibel to recriate all the circumstances of and instance. Examples of TRNG:\n",
    "\n",
    "- Coin fliping\n",
    "- Dice rolling\n",
    "- Lottery\n",
    "- Mouse (computer) movement\n",
    "- Key stroking timing\n",
    "\n",
    "## Pseudo Random Number Generators (PRNG)\n",
    "\n",
    "PRN are computed, i.e, they are deterministic. Often they are computed with the following function namely function:\n",
    "\n",
    "$s-{0} = seed$\n",
    "\n",
    "$s_{i+1} = f(s_{i})$\n",
    "\n",
    "Example: rand function in ANSI C:\n",
    "\n",
    "$s_{0} = 12345$\n",
    "\n",
    "$s_{i+1} = 1103515245 + 12345 \\mod 31$\n",
    "\n",
    "## Criptographycally Secure Pseudo Random Number Generators (CSPRNG)\n",
    "\n",
    "The CSPRNG are PRNG with an aditional property: the numbers are unpredictable.\n",
    "\n",
    "Informal definition: given $n$ output bits, $s_{i}, s_{i+1}, s_{i+2}, ..., s_{i+n-1}$, it is computational infeasible to construct $s_{n}$.\n",
    "\n",
    "## References\n",
    "\n",
    "https://en.wikipedia.org/wiki/Pseudorandom_number_generator\n",
    "\n",
    "https://en.wikipedia.org/wiki/Random_number_generation#.22True.22_vs._pseudo-random_numbers\n",
    "\n",
    "https://en.wikipedia.org/wiki/Cryptographically_secure_pseudorandom_number_generator\n",
    "\n"
   ]
  }
 ],
 "metadata": {
  "kernelspec": {
   "display_name": "Python 3",
   "language": "python",
   "name": "python3"
  },
  "language_info": {
   "codemirror_mode": {
    "name": "ipython",
    "version": 3
   },
   "file_extension": ".py",
   "mimetype": "text/x-python",
   "name": "python",
   "nbconvert_exporter": "python",
   "pygments_lexer": "ipython3",
   "version": "3.6.3"
  }
 },
 "nbformat": 4,
 "nbformat_minor": 2
}
