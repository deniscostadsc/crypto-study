{
 "cells": [
  {
   "cell_type": "markdown",
   "metadata": {},
   "source": [
    "# Stream Ciphers\n",
    "\n",
    "## Motivation\n",
    "\n",
    "GSM is one example of Stream Cipher\n",
    "\n",
    "## Definition\n",
    "\n",
    "Stream cipher encrypts/decrypts bits individually.\n",
    "\n",
    "$y_{i} = e(x_{i}) \\equiv x_{i} + s_{i} \\mod 2$\n",
    "\n",
    "$x_{i} = d(y_{i}) \\equiv y_{i} + s_{i} \\mod 2$\n",
    "\n",
    "As you can see, both functions use same operation for encryption and decryption. Let's prove both functions use same operation:\n",
    "\n",
    "$d(y_{i}) \\equiv y_{i} + s_{i} \\mod 2$\n",
    "\n",
    "As we saw before, $y_{i} = x_{i} + s_{i}$, so we can replace the values on that equation.\n",
    "\n",
    "$d(y_{i}) \\equiv (x_{i} + s_{i}) + s_{i} \\mod 2$\n",
    "\n",
    "$d(y_{i}) \\equiv x_{i} + 2s_{i} \\mod 2$\n",
    "\n",
    "And we know that $\\mod 2$ of any number multiplied by 2 is 0, so we can remove $2s_{i}$ from the equation:\n",
    "\n",
    "$d(y_{i}) \\equiv x_{i} \\mod 2$\n",
    "\n",
    "*Note: $\\mod 2$ addition and subtraction are the same operation!*\n",
    "\n",
    "That said we could rewrite $x_{i} = d(y_{i}) \\equiv y_{i} + s_{i} \\mod 2$, but the result will be the same.\n",
    "\n",
    "$x_{i}, y_{i}, s_{i} \\in \\mathbb{z}_{2}$ and $\\mathbb{z}_{2} = \\{0,1\\}$\n",
    "\n",
    "### Mod 2 in depth\n",
    "\n",
    "Let's see a truth table for encription function.\n",
    "\n",
    " $x_{i}$ | $s_{i}$ | $y_{i} \\mod 2$ \n",
    ":-------:|:-------:|:--------------:\n",
    " 0       | 0       | 0\n",
    " 0       | 1       | 1\n",
    " 1       | 0       | 1\n",
    " 1       | 1       | 0\n",
    "\n",
    "The $\\mod 2$ adition is the same as **XOR operation**."
   ]
  }
 ],
 "metadata": {
  "kernelspec": {
   "display_name": "Python 3",
   "language": "python",
   "name": "python3"
  },
  "language_info": {
   "codemirror_mode": {
    "name": "ipython",
    "version": 3
   },
   "file_extension": ".py",
   "mimetype": "text/x-python",
   "name": "python",
   "nbconvert_exporter": "python",
   "pygments_lexer": "ipython3",
   "version": "3.6.3"
  }
 },
 "nbformat": 4,
 "nbformat_minor": 2
}
