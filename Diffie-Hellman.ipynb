{
 "cells": [
  {
   "cell_type": "code",
   "execution_count": 27,
   "metadata": {
    "scrolled": true
   },
   "outputs": [
    {
     "data": {
      "text/plain": [
       "(587, 133, 375, 13, 491, 551, 174)"
      ]
     },
     "execution_count": 27,
     "metadata": {},
     "output_type": "execute_result"
    }
   ],
   "source": [
    "import random\n",
    "\n",
    "p = 587 # this number should be 2000 bits large, but for this example this is ok.\n",
    "g = random.randint(1, p)\n",
    "\n",
    "alice_secret = random.randint(1, p-1)\n",
    "send_to_bob = g ** alice_secret % p\n",
    "\n",
    "bob_secret = random.randint(1, p-1)\n",
    "send_to_alice = g ** bob_secret % p\n",
    "\n",
    "shared_secret = send_to_bob ** bob_secret % p\n",
    "shared_secret == send_to_alice ** alice_secret % p\n",
    "\n",
    "p, g, alice_secret, send_to_bob, bob_secret, send_to_alice, shared_secret"
   ]
  }
 ],
 "metadata": {
  "kernelspec": {
   "display_name": "Python 3",
   "language": "python",
   "name": "python3"
  },
  "language_info": {
   "codemirror_mode": {
    "name": "ipython",
    "version": 3
   },
   "file_extension": ".py",
   "mimetype": "text/x-python",
   "name": "python",
   "nbconvert_exporter": "python",
   "pygments_lexer": "ipython3",
   "version": "3.6.3"
  }
 },
 "nbformat": 4,
 "nbformat_minor": 2
}
