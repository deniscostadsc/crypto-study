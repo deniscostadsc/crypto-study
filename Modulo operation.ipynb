{
 "cells": [
  {
   "cell_type": "markdown",
   "metadata": {},
   "source": [
    "# Modulo operation\n",
    "\n",
    "\n",
    "This notebook is aimed to place all the study about modulus function"
   ]
  },
  {
   "cell_type": "markdown",
   "metadata": {},
   "source": [
    "## Definition\n",
    "\n",
    "Modulos operation finds the remainder after a division of one number by another[\\[1\\]](https://en.wikipedia.org/wiki/Modulo_operation)[\\[2\\]](https://youtu.be/W1SY6qKZrUk?t=1m19s)\n",
    "\n",
    "Let's say $a, r, m \\in \\mathbb{Z}$ and $m > 0$:\n",
    "\n",
    "$a \\equiv r \\mod m \\text{, if } m \\vert (a - r)$\n",
    "\n",
    "### Definition verification\n",
    "\n",
    "$a = 13 \\text{, } m = 9 \\text{ and }r = ?$\n",
    "\n",
    "$13 \\equiv 4 \\mod 9$\n",
    "\n",
    "Then we go back to the \"if\" part of the definition:\n",
    "\n",
    "$ m \\vert (a - r)$\n",
    "\n",
    "$9 \\vert (13 - 4)$\n",
    "\n",
    "$9 \\vert 9$\n",
    "\n",
    "The we we got $9 \\vert 9$, that is true, because 9 is divisible. \n",
    "\n",
    "## Computation of the remainder\n",
    "\n",
    "q is the quotient.\n",
    "\n",
    "$a = q \\cdot{m} + r$\n",
    "\n",
    "Example:\n",
    "\n",
    "$a = 42$ and $m = 9$\n",
    "\n",
    "$42 = 4 \\cdot{9} + 6$\n",
    "\n",
    "To verify this we can use the definition above:\n",
    "\n",
    "$9 \\vert (42 - 6)$\n",
    "\n",
    "$9 \\vert 36$ that is true.\n",
    "\n",
    "## Congruence classes\n",
    "\n",
    "That example above (when $a = 42$ and $m = 9$) can be rewritten as $42 = 3 \\cdot{9} + 15$, which is also true, as you can see below:\n",
    "\n",
    "$42 = 3 \\cdot{9} + 15$\n",
    "\n",
    "Let's verify this:\n",
    "\n",
    "$9 \\vert (42 - 15)$\n",
    "\n",
    "$9 \\vert 27$ that is also true.\n",
    "\n",
    "Or also\n",
    "\n",
    "$42 = 5 \\cdot{9} + (- 3)$\n",
    "\n",
    "Let's also verify this:\n",
    "\n",
    "$9 \\vert (42 - (- 3))$\n",
    "\n",
    "$9 \\vert (42 + 3)$\n",
    "\n",
    "$9 \\vert 45$, that, of course, it is true.\n",
    "\n",
    "**That means that based on that definition above, there are many possible remainders.**\n",
    "\n",
    "\n",
    "\n",
    "\n",
    "Like any congruence relation, congruence modulo n is an equivalence relation, and the equivalence class of the integer a, denoted by an, is the set $\\{... , a - 2n, a - n, a, a + n, a + 2n, ...\\}$. This set, consisting of the integers congruent to a modulo n, is called the congruence class or residue class or simply residue of the integer a, modulo n. When the modulus n is known from the context, that residue may also be denoted [a].[\\[2\\]](https://en.wikipedia.org/wiki/Modular_arithmetic)"
   ]
  },
  {
   "cell_type": "markdown",
   "metadata": {},
   "source": [
    "References\n",
    "======\n",
    "\n",
    "[1] - https://en.wikipedia.org/wiki/Modulo_operation\n",
    "\n",
    "[2] - https://youtu.be/W1SY6qKZrUk?t=1m19s\n",
    "\n",
    "[3] - https://en.wikipedia.org/wiki/Modular_arithmetic"
   ]
  }
 ],
 "metadata": {
  "kernelspec": {
   "display_name": "Python 3",
   "language": "python",
   "name": "python3"
  },
  "language_info": {
   "codemirror_mode": {
    "name": "ipython",
    "version": 3
   },
   "file_extension": ".py",
   "mimetype": "text/x-python",
   "name": "python",
   "nbconvert_exporter": "python",
   "pygments_lexer": "ipython3",
   "version": "3.6.3"
  }
 },
 "nbformat": 4,
 "nbformat_minor": 2
}
