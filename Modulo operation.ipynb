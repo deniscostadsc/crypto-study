{
 "cells": [
  {
   "cell_type": "markdown",
   "metadata": {},
   "source": [
    "# Modulo operation\n",
    "\n",
    "\n",
    "This notebook is aimed to place all the study about modulus function"
   ]
  },
  {
   "cell_type": "markdown",
   "metadata": {},
   "source": [
    "## Definition\n",
    "\n",
    "Modulos operation finds the remainder after a division of one number by another[\\[1\\]](https://en.wikipedia.org/wiki/Modulo_operation)[\\[2\\]](https://youtu.be/W1SY6qKZrUk?t=1m19s)\n",
    "\n",
    "Let's say $a, r, m \\in \\mathbb{Z}$ and $m > 0$:\n",
    "\n",
    "$a \\equiv r \\mod m \\text{, if } m \\vert (a - r)$\n",
    "\n",
    "Examples:\n",
    "\n",
    "\n",
    "$12 \\mod 3 = 0$\n",
    "\n",
    "$13 \\mod 3 = 1$\n",
    "\n",
    "$14 \\mod 3 = 2$\n",
    "\n",
    "$15 \\mod 3 = 0$\n",
    "\n"
   ]
  },
  {
   "cell_type": "markdown",
   "metadata": {},
   "source": [
    "Congruence classes\n",
    "==========\n",
    "Like any congruence relation, congruence modulo n is an equivalence relation, and the equivalence class of the integer a, denoted by an, is the set $\\{… , a − 2n, a − n, a, a + n, a + 2n, …\\}$. This set, consisting of the integers congruent to a modulo n, is called the congruence class or residue class or simply residue of the integer a, modulo n. When the modulus n is known from the context, that residue may also be denoted [a].[\\[2\\]](https://en.wikipedia.org/wiki/Modular_arithmetic)"
   ]
  },
  {
   "cell_type": "markdown",
   "metadata": {},
   "source": [
    "References\n",
    "======\n",
    "\n",
    "[1] - https://en.wikipedia.org/wiki/Modulo_operation\n",
    "\n",
    "[2] - https://youtu.be/W1SY6qKZrUk?t=1m19s\n",
    "\n",
    "[3] - https://en.wikipedia.org/wiki/Modular_arithmetic"
   ]
  }
 ],
 "metadata": {
  "kernelspec": {
   "display_name": "Python 3",
   "language": "python",
   "name": "python3"
  },
  "language_info": {
   "codemirror_mode": {
    "name": "ipython",
    "version": 3
   },
   "file_extension": ".py",
   "mimetype": "text/x-python",
   "name": "python",
   "nbconvert_exporter": "python",
   "pygments_lexer": "ipython3",
   "version": "3.6.3"
  }
 },
 "nbformat": 4,
 "nbformat_minor": 2
}
