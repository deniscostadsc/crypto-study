{
 "cells": [
  {
   "cell_type": "markdown",
   "metadata": {},
   "source": [
    "# One time pad\n",
    "\n",
    "Let's suppose we have a goal of build a \"perfect\" cipher. By \"perfect\" we mean, a cipher that is \"unconditionally secure\" (or information theoritically secure) if it can not be broken even with infinite computing resources.\n",
    "\n",
    "The one time pad (OTP) is a stream cipher where:\n",
    "\n",
    "1. The key stream bits is $s_{i}$ stem from a [TRNG](./Random numbers.ipynb).\n",
    "2. Each key is used only once.\n",
    "\n",
    "The big drowback key is as long as the message.\n",
    "\n",
    "##  References\n",
    "\n",
    "[1] - https://en.wikipedia.org/wiki/One-time_pad"
   ]
  }
 ],
 "metadata": {
  "kernelspec": {
   "display_name": "Python 3",
   "language": "python",
   "name": "python3"
  },
  "language_info": {
   "codemirror_mode": {
    "name": "ipython",
    "version": 3
   },
   "file_extension": ".py",
   "mimetype": "text/x-python",
   "name": "python",
   "nbconvert_exporter": "python",
   "pygments_lexer": "ipython3",
   "version": "3.6.3"
  }
 },
 "nbformat": 4,
 "nbformat_minor": 2
}
