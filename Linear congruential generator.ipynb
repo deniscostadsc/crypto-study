{
 "cells": [
  {
   "cell_type": "markdown",
   "metadata": {},
   "source": [
    "# Linear congruential generator (LCG)\n",
    "\n",
    "The idea behind LCG is to use key stream $s_{i}$ from a [PRNG](./Random numbers.ipynb).\n",
    "\n",
    "```\n",
    "       +------+               +------+\n",
    "  K -> | PRNG |               | PRNG | <- K\n",
    "       +------+               +------+\n",
    "          | Si                   | Si\n",
    "          V                      V\n",
    "       +-----+       Yi       +-----+\n",
    "(Xi)-->| XOR |--------------->| XOR |-->(Xi)\n",
    "       +-----+                +-----+\n",
    "```\n",
    "\n",
    "The definition of LCG:\n",
    "\n",
    "$S0 = seed$\n",
    "\n",
    "$Si + 1 \\equiv A S_{i} + B \\mod m, i = 0, 1,...$\n",
    "\n",
    "$A, B, C \\in \\mathbb{Z}$\n",
    "\n",
    "Key $K = (A, B)$\n",
    "\n",
    "How can that be easly broken?\n",
    "\n",
    "Let's assume that a attacker Eve know $X_{1}, X_{2}, X_{3}$ (protocol headers, for example). And of course she knows $Y_{1}Y_{2}Y_{3}$, because is transfered over an unsecure channel. Even can retrieve $S_{1}, S_{2}, S_{3}$ by doing the XOR operation again.\n",
    "\n",
    "$S_{i} \\equiv Y_{i} \\oplus X_{i}, i = 1, 2, 3$ or even $S_{i} \\equiv Y_{i} + X_{i} \\mod m, i = 1, 2, 3$\n",
    "\n",
    "After having these information and based on the definition above Eve can generate these two equations:\n",
    "\n",
    "$S_{2} \\equiv A S_{1} + B \\mod m$\n",
    "\n",
    "$S_{3} \\equiv A S_{2} + B \\mod m$\n",
    "\n",
    "This is a system of linear equations over $\\mathbb{Z}_{m}$. If we solve the system we have:\n",
    "\n",
    "$A \\equiv (S_{2} − S_{3}) / (S_{1} − S_{2}) \\mod m$ or $A \\equiv (S_{2} − S_{3}) \\cdot (S_{1} − S_{2}) ^{-1}  \\mod m$\n",
    "\n",
    "$B \\equiv S_{2} − S_{1} (S_{2} − S_{3}) / (S_{1} − S_{2}) \\mod m$ or $B \\equiv S_{2} − S_{1} (S_{2} − S_{3}) \\cdot (S_{1} − S_{2}) ^{-1} \\mod m$\n",
    "\n",
    "    I got these results above from the video lectures and the book the lectures are based. Doing the math I got different results. I need to check that later. Probably I'm wrong.\n",
    "\n",
    "If an attacker knows a few pieces of plaintext, it is possible to decrypt the entire ciohertext."
   ]
  }
 ],
 "metadata": {
  "kernelspec": {
   "display_name": "Python 3",
   "language": "python",
   "name": "python3"
  },
  "language_info": {
   "codemirror_mode": {
    "name": "ipython",
    "version": 3
   },
   "file_extension": ".py",
   "mimetype": "text/x-python",
   "name": "python",
   "nbconvert_exporter": "python",
   "pygments_lexer": "ipython3",
   "version": "3.6.3"
  }
 },
 "nbformat": 4,
 "nbformat_minor": 2
}
